{
  "nbformat": 4,
  "nbformat_minor": 0,
  "metadata": {
    "colab": {
      "name": "Cleaned.ipynb",
      "provenance": [],
      "collapsed_sections": []
    },
    "kernelspec": {
      "name": "python3",
      "display_name": "Python 3"
    }
  },
  "cells": [
    {
      "cell_type": "code",
      "metadata": {
        "id": "Wz_TZG3MmTYI",
        "colab_type": "code",
        "colab": {}
      },
      "source": [
        "import pandas as pd\n",
        "import numpy as np\n",
        "import matplotlib.pyplot as plt\n",
        "import seaborn as sns\n",
        "import folium\n",
        "\n",
        "#%config InlineBackend.figure_format = \"svg\""
      ],
      "execution_count": 0,
      "outputs": []
    },
    {
      "cell_type": "code",
      "metadata": {
        "id": "6AHTGFVJmXNt",
        "colab_type": "code",
        "colab": {}
      },
      "source": [
        "# Combine three weeks worth of MTA data from late April to early May\n",
        "\n",
        "df1 = pd.read_csv('http://web.mta.info/developers/data/nyct/turnstile/turnstile_190427.txt')\n",
        "df2 = pd.read_csv('http://web.mta.info/developers/data/nyct/turnstile/turnstile_190504.txt')\n",
        "df3 = pd.read_csv('http://web.mta.info/developers/data/nyct/turnstile/turnstile_190511.txt')\n",
        "\n",
        "df = df1.append([df2, df3])"
      ],
      "execution_count": 0,
      "outputs": []
    },
    {
      "cell_type": "code",
      "metadata": {
        "id": "4q2z1GgKmm6M",
        "colab_type": "code",
        "colab": {}
      },
      "source": [
        "# Data Cleaning \n",
        "\n",
        "df.columns = df.columns.str.strip()\n",
        "\n",
        "df['DATETIME'] = df['DATE'] + ' ' + df['TIME']\n",
        "df['DATETIME'] = pd.to_datetime(df['DATETIME'], format=\"%m/%d/%Y %H:%M:%S\")\n",
        "\n",
        "df.drop(columns=['DATE', 'TIME'], inplace=True)\n",
        "\n",
        "df['DAY'] = df['DATETIME'].dt.day_name()\n",
        "\n",
        "# Each turnstile can be indentified by a combination of the UNIT and SCP. Grouping by these two features allows us to get accurate\n",
        "# entry and exit counts. \n",
        "\n",
        "df['ENTRY COUNT'] = df.groupby(['UNIT', 'SCP'])['ENTRIES'].transform(lambda x: x.diff())\n",
        "df['EXIT COUNT'] = df.groupby(['UNIT', 'SCP'])['EXITS'].transform(lambda x: x.diff())\n"
      ],
      "execution_count": 0,
      "outputs": []
    },
    {
      "cell_type": "code",
      "metadata": {
        "id": "wx3ibujEndz1",
        "colab_type": "code",
        "colab": {
          "base_uri": "https://localhost:8080/",
          "height": 302
        },
        "outputId": "6b01153c-e17c-4074-cc73-845e165d4bce"
      },
      "source": [
        "df.head()"
      ],
      "execution_count": 4,
      "outputs": [
        {
          "output_type": "execute_result",
          "data": {
            "text/html": [
              "<div>\n",
              "<style scoped>\n",
              "    .dataframe tbody tr th:only-of-type {\n",
              "        vertical-align: middle;\n",
              "    }\n",
              "\n",
              "    .dataframe tbody tr th {\n",
              "        vertical-align: top;\n",
              "    }\n",
              "\n",
              "    .dataframe thead th {\n",
              "        text-align: right;\n",
              "    }\n",
              "</style>\n",
              "<table border=\"1\" class=\"dataframe\">\n",
              "  <thead>\n",
              "    <tr style=\"text-align: right;\">\n",
              "      <th></th>\n",
              "      <th>C/A</th>\n",
              "      <th>UNIT</th>\n",
              "      <th>SCP</th>\n",
              "      <th>STATION</th>\n",
              "      <th>LINENAME</th>\n",
              "      <th>DIVISION</th>\n",
              "      <th>DESC</th>\n",
              "      <th>ENTRIES</th>\n",
              "      <th>EXITS</th>\n",
              "      <th>DATETIME</th>\n",
              "      <th>DAY</th>\n",
              "      <th>ENTRY COUNT</th>\n",
              "      <th>EXIT COUNT</th>\n",
              "    </tr>\n",
              "  </thead>\n",
              "  <tbody>\n",
              "    <tr>\n",
              "      <th>0</th>\n",
              "      <td>A002</td>\n",
              "      <td>R051</td>\n",
              "      <td>02-00-00</td>\n",
              "      <td>59 ST</td>\n",
              "      <td>NQR456W</td>\n",
              "      <td>BMT</td>\n",
              "      <td>REGULAR</td>\n",
              "      <td>7026702</td>\n",
              "      <td>2382234</td>\n",
              "      <td>2019-04-20 00:00:00</td>\n",
              "      <td>Saturday</td>\n",
              "      <td>NaN</td>\n",
              "      <td>NaN</td>\n",
              "    </tr>\n",
              "    <tr>\n",
              "      <th>1</th>\n",
              "      <td>A002</td>\n",
              "      <td>R051</td>\n",
              "      <td>02-00-00</td>\n",
              "      <td>59 ST</td>\n",
              "      <td>NQR456W</td>\n",
              "      <td>BMT</td>\n",
              "      <td>REGULAR</td>\n",
              "      <td>7026719</td>\n",
              "      <td>2382240</td>\n",
              "      <td>2019-04-20 04:00:00</td>\n",
              "      <td>Saturday</td>\n",
              "      <td>17.0</td>\n",
              "      <td>6.0</td>\n",
              "    </tr>\n",
              "    <tr>\n",
              "      <th>2</th>\n",
              "      <td>A002</td>\n",
              "      <td>R051</td>\n",
              "      <td>02-00-00</td>\n",
              "      <td>59 ST</td>\n",
              "      <td>NQR456W</td>\n",
              "      <td>BMT</td>\n",
              "      <td>REGULAR</td>\n",
              "      <td>7026737</td>\n",
              "      <td>2382269</td>\n",
              "      <td>2019-04-20 08:00:00</td>\n",
              "      <td>Saturday</td>\n",
              "      <td>18.0</td>\n",
              "      <td>29.0</td>\n",
              "    </tr>\n",
              "    <tr>\n",
              "      <th>3</th>\n",
              "      <td>A002</td>\n",
              "      <td>R051</td>\n",
              "      <td>02-00-00</td>\n",
              "      <td>59 ST</td>\n",
              "      <td>NQR456W</td>\n",
              "      <td>BMT</td>\n",
              "      <td>REGULAR</td>\n",
              "      <td>7026814</td>\n",
              "      <td>2382335</td>\n",
              "      <td>2019-04-20 12:00:00</td>\n",
              "      <td>Saturday</td>\n",
              "      <td>77.0</td>\n",
              "      <td>66.0</td>\n",
              "    </tr>\n",
              "    <tr>\n",
              "      <th>4</th>\n",
              "      <td>A002</td>\n",
              "      <td>R051</td>\n",
              "      <td>02-00-00</td>\n",
              "      <td>59 ST</td>\n",
              "      <td>NQR456W</td>\n",
              "      <td>BMT</td>\n",
              "      <td>REGULAR</td>\n",
              "      <td>7027007</td>\n",
              "      <td>2382395</td>\n",
              "      <td>2019-04-20 16:00:00</td>\n",
              "      <td>Saturday</td>\n",
              "      <td>193.0</td>\n",
              "      <td>60.0</td>\n",
              "    </tr>\n",
              "  </tbody>\n",
              "</table>\n",
              "</div>"
            ],
            "text/plain": [
              "    C/A  UNIT       SCP  ...       DAY ENTRY COUNT EXIT COUNT\n",
              "0  A002  R051  02-00-00  ...  Saturday         NaN        NaN\n",
              "1  A002  R051  02-00-00  ...  Saturday        17.0        6.0\n",
              "2  A002  R051  02-00-00  ...  Saturday        18.0       29.0\n",
              "3  A002  R051  02-00-00  ...  Saturday        77.0       66.0\n",
              "4  A002  R051  02-00-00  ...  Saturday       193.0       60.0\n",
              "\n",
              "[5 rows x 13 columns]"
            ]
          },
          "metadata": {
            "tags": []
          },
          "execution_count": 4
        }
      ]
    },
    {
      "cell_type": "code",
      "metadata": {
        "id": "hgPRGdfLngVx",
        "colab_type": "code",
        "colab": {
          "base_uri": "https://localhost:8080/",
          "height": 288
        },
        "outputId": "eafeeb9c-8c99-4838-b6f5-e1025566b575"
      },
      "source": [
        "df.describe()"
      ],
      "execution_count": 5,
      "outputs": [
        {
          "output_type": "execute_result",
          "data": {
            "text/html": [
              "<div>\n",
              "<style scoped>\n",
              "    .dataframe tbody tr th:only-of-type {\n",
              "        vertical-align: middle;\n",
              "    }\n",
              "\n",
              "    .dataframe tbody tr th {\n",
              "        vertical-align: top;\n",
              "    }\n",
              "\n",
              "    .dataframe thead th {\n",
              "        text-align: right;\n",
              "    }\n",
              "</style>\n",
              "<table border=\"1\" class=\"dataframe\">\n",
              "  <thead>\n",
              "    <tr style=\"text-align: right;\">\n",
              "      <th></th>\n",
              "      <th>ENTRIES</th>\n",
              "      <th>EXITS</th>\n",
              "      <th>ENTRY COUNT</th>\n",
              "      <th>EXIT COUNT</th>\n",
              "    </tr>\n",
              "  </thead>\n",
              "  <tbody>\n",
              "    <tr>\n",
              "      <th>count</th>\n",
              "      <td>6.148020e+05</td>\n",
              "      <td>6.148020e+05</td>\n",
              "      <td>6.099380e+05</td>\n",
              "      <td>6.099380e+05</td>\n",
              "    </tr>\n",
              "    <tr>\n",
              "      <th>mean</th>\n",
              "      <td>4.084381e+07</td>\n",
              "      <td>3.341919e+07</td>\n",
              "      <td>9.933010e+02</td>\n",
              "      <td>1.860043e+03</td>\n",
              "    </tr>\n",
              "    <tr>\n",
              "      <th>std</th>\n",
              "      <td>2.096598e+08</td>\n",
              "      <td>1.933731e+08</td>\n",
              "      <td>3.364400e+06</td>\n",
              "      <td>3.064132e+06</td>\n",
              "    </tr>\n",
              "    <tr>\n",
              "      <th>min</th>\n",
              "      <td>0.000000e+00</td>\n",
              "      <td>0.000000e+00</td>\n",
              "      <td>-1.835264e+09</td>\n",
              "      <td>-1.359348e+09</td>\n",
              "    </tr>\n",
              "    <tr>\n",
              "      <th>25%</th>\n",
              "      <td>3.494502e+05</td>\n",
              "      <td>1.438178e+05</td>\n",
              "      <td>9.000000e+00</td>\n",
              "      <td>8.000000e+00</td>\n",
              "    </tr>\n",
              "    <tr>\n",
              "      <th>50%</th>\n",
              "      <td>2.174896e+06</td>\n",
              "      <td>1.244878e+06</td>\n",
              "      <td>7.000000e+01</td>\n",
              "      <td>5.100000e+01</td>\n",
              "    </tr>\n",
              "    <tr>\n",
              "      <th>75%</th>\n",
              "      <td>6.773246e+06</td>\n",
              "      <td>4.590770e+06</td>\n",
              "      <td>2.330000e+02</td>\n",
              "      <td>1.620000e+02</td>\n",
              "    </tr>\n",
              "    <tr>\n",
              "      <th>max</th>\n",
              "      <td>2.129355e+09</td>\n",
              "      <td>2.124143e+09</td>\n",
              "      <td>1.126553e+09</td>\n",
              "      <td>1.078346e+09</td>\n",
              "    </tr>\n",
              "  </tbody>\n",
              "</table>\n",
              "</div>"
            ],
            "text/plain": [
              "            ENTRIES         EXITS   ENTRY COUNT    EXIT COUNT\n",
              "count  6.148020e+05  6.148020e+05  6.099380e+05  6.099380e+05\n",
              "mean   4.084381e+07  3.341919e+07  9.933010e+02  1.860043e+03\n",
              "std    2.096598e+08  1.933731e+08  3.364400e+06  3.064132e+06\n",
              "min    0.000000e+00  0.000000e+00 -1.835264e+09 -1.359348e+09\n",
              "25%    3.494502e+05  1.438178e+05  9.000000e+00  8.000000e+00\n",
              "50%    2.174896e+06  1.244878e+06  7.000000e+01  5.100000e+01\n",
              "75%    6.773246e+06  4.590770e+06  2.330000e+02  1.620000e+02\n",
              "max    2.129355e+09  2.124143e+09  1.126553e+09  1.078346e+09"
            ]
          },
          "metadata": {
            "tags": []
          },
          "execution_count": 5
        }
      ]
    },
    {
      "cell_type": "markdown",
      "metadata": {
        "id": "jbh9O_6Nn2ew",
        "colab_type": "text"
      },
      "source": [
        "Both **ENTRY COUNT** AND **EXIT COUNT** have negative values and for the min and crazy high values for the max. This is in part due to complications such as turnstiles being reset, changed, etc."
      ]
    },
    {
      "cell_type": "code",
      "metadata": {
        "id": "pMTRZYAWnphc",
        "colab_type": "code",
        "colab": {}
      },
      "source": [
        "# Dropping rows with irrational values\n",
        "\n",
        "df = df[(df['ENTRY COUNT'] >= 0) & (df['EXIT COUNT'] >= 0)]"
      ],
      "execution_count": 0,
      "outputs": []
    },
    {
      "cell_type": "code",
      "metadata": {
        "id": "5tLIosFGo87R",
        "colab_type": "code",
        "colab": {}
      },
      "source": [
        "Q1_entry = df['ENTRY COUNT'].quantile(0.25)\n",
        "Q3_entry = df['ENTRY COUNT'].quantile(0.75)\n",
        "IQR_entry = Q3_entry - Q1_entry\n",
        "\n",
        "Q1_exit = df['EXIT COUNT'].quantile(0.25)\n",
        "Q3_exit = df['EXIT COUNT'].quantile(0.75)\n",
        "IQR_exit = Q3_exit - Q1_exit\n",
        "\n",
        "entry_bound = Q3_entry + 1.5 * IQR_entry\n",
        "exit_bound = Q3_exit + 1.5 * IQR_exit"
      ],
      "execution_count": 0,
      "outputs": []
    },
    {
      "cell_type": "code",
      "metadata": {
        "id": "oeXnRcIspeOc",
        "colab_type": "code",
        "colab": {
          "base_uri": "https://localhost:8080/",
          "height": 288
        },
        "outputId": "9ebe13a0-20b6-4ece-edae-6d67e7d051dc"
      },
      "source": [
        "df.describe()"
      ],
      "execution_count": 10,
      "outputs": [
        {
          "output_type": "execute_result",
          "data": {
            "text/html": [
              "<div>\n",
              "<style scoped>\n",
              "    .dataframe tbody tr th:only-of-type {\n",
              "        vertical-align: middle;\n",
              "    }\n",
              "\n",
              "    .dataframe tbody tr th {\n",
              "        vertical-align: top;\n",
              "    }\n",
              "\n",
              "    .dataframe thead th {\n",
              "        text-align: right;\n",
              "    }\n",
              "</style>\n",
              "<table border=\"1\" class=\"dataframe\">\n",
              "  <thead>\n",
              "    <tr style=\"text-align: right;\">\n",
              "      <th></th>\n",
              "      <th>ENTRIES</th>\n",
              "      <th>EXITS</th>\n",
              "      <th>ENTRY COUNT</th>\n",
              "      <th>EXIT COUNT</th>\n",
              "    </tr>\n",
              "  </thead>\n",
              "  <tbody>\n",
              "    <tr>\n",
              "      <th>count</th>\n",
              "      <td>6.026730e+05</td>\n",
              "      <td>6.026730e+05</td>\n",
              "      <td>6.026730e+05</td>\n",
              "      <td>6.026730e+05</td>\n",
              "    </tr>\n",
              "    <tr>\n",
              "      <th>mean</th>\n",
              "      <td>2.786367e+07</td>\n",
              "      <td>2.016885e+07</td>\n",
              "      <td>6.446536e+03</td>\n",
              "      <td>6.742399e+03</td>\n",
              "    </tr>\n",
              "    <tr>\n",
              "      <th>std</th>\n",
              "      <td>1.588909e+08</td>\n",
              "      <td>1.360172e+08</td>\n",
              "      <td>2.110708e+06</td>\n",
              "      <td>2.269092e+06</td>\n",
              "    </tr>\n",
              "    <tr>\n",
              "      <th>min</th>\n",
              "      <td>0.000000e+00</td>\n",
              "      <td>0.000000e+00</td>\n",
              "      <td>0.000000e+00</td>\n",
              "      <td>0.000000e+00</td>\n",
              "    </tr>\n",
              "    <tr>\n",
              "      <th>25%</th>\n",
              "      <td>3.366980e+05</td>\n",
              "      <td>1.389650e+05</td>\n",
              "      <td>1.000000e+01</td>\n",
              "      <td>8.000000e+00</td>\n",
              "    </tr>\n",
              "    <tr>\n",
              "      <th>50%</th>\n",
              "      <td>2.121450e+06</td>\n",
              "      <td>1.207749e+06</td>\n",
              "      <td>7.200000e+01</td>\n",
              "      <td>5.100000e+01</td>\n",
              "    </tr>\n",
              "    <tr>\n",
              "      <th>75%</th>\n",
              "      <td>6.466613e+06</td>\n",
              "      <td>4.418113e+06</td>\n",
              "      <td>2.350000e+02</td>\n",
              "      <td>1.640000e+02</td>\n",
              "    </tr>\n",
              "    <tr>\n",
              "      <th>max</th>\n",
              "      <td>2.115823e+09</td>\n",
              "      <td>2.037820e+09</td>\n",
              "      <td>1.126553e+09</td>\n",
              "      <td>1.078346e+09</td>\n",
              "    </tr>\n",
              "  </tbody>\n",
              "</table>\n",
              "</div>"
            ],
            "text/plain": [
              "            ENTRIES         EXITS   ENTRY COUNT    EXIT COUNT\n",
              "count  6.026730e+05  6.026730e+05  6.026730e+05  6.026730e+05\n",
              "mean   2.786367e+07  2.016885e+07  6.446536e+03  6.742399e+03\n",
              "std    1.588909e+08  1.360172e+08  2.110708e+06  2.269092e+06\n",
              "min    0.000000e+00  0.000000e+00  0.000000e+00  0.000000e+00\n",
              "25%    3.366980e+05  1.389650e+05  1.000000e+01  8.000000e+00\n",
              "50%    2.121450e+06  1.207749e+06  7.200000e+01  5.100000e+01\n",
              "75%    6.466613e+06  4.418113e+06  2.350000e+02  1.640000e+02\n",
              "max    2.115823e+09  2.037820e+09  1.126553e+09  1.078346e+09"
            ]
          },
          "metadata": {
            "tags": []
          },
          "execution_count": 10
        }
      ]
    },
    {
      "cell_type": "code",
      "metadata": {
        "id": "ls9rhqT9pgiJ",
        "colab_type": "code",
        "colab": {}
      },
      "source": [
        "IQR_df = df.copy()\n",
        "IQR_df = df[(df['ENTRY COUNT'] < entry_bound) & (df['EXIT COUNT'] < exit_bound)]\n",
        "ax = sns.boxplot(data=IQR_df[['EXIT COUNT', 'ENTRY COUNT']])"
      ],
      "execution_count": 0,
      "outputs": []
    },
    {
      "cell_type": "markdown",
      "metadata": {
        "id": "ohzmUaU8qMVf",
        "colab_type": "text"
      },
      "source": [
        "One approach to remove crazy high values is to use the IQR to remove outliers. However, the boxplot above illustrates that there a considerable amount of outliers. The most popular stations can have significantly higher traffic so removing these outliers can negatively affect our analysis to determine the most popular stations. Instead of using the IQR to remove outliers, we chose to set an upper limit of 15,000 entries or exits in a four hour period."
      ]
    },
    {
      "cell_type": "code",
      "metadata": {
        "id": "1daZnCyyrKe0",
        "colab_type": "code",
        "colab": {
          "base_uri": "https://localhost:8080/",
          "height": 288
        },
        "outputId": "33ca5ce8-9ffc-4b0b-b0cd-f59ec3cfe259"
      },
      "source": [
        "df = df[(df['ENTRY COUNT'] < 15000 ) & (df['EXIT COUNT'] < 15000)]\n",
        "df.describe()"
      ],
      "execution_count": 17,
      "outputs": [
        {
          "output_type": "execute_result",
          "data": {
            "text/html": [
              "<div>\n",
              "<style scoped>\n",
              "    .dataframe tbody tr th:only-of-type {\n",
              "        vertical-align: middle;\n",
              "    }\n",
              "\n",
              "    .dataframe tbody tr th {\n",
              "        vertical-align: top;\n",
              "    }\n",
              "\n",
              "    .dataframe thead th {\n",
              "        text-align: right;\n",
              "    }\n",
              "</style>\n",
              "<table border=\"1\" class=\"dataframe\">\n",
              "  <thead>\n",
              "    <tr style=\"text-align: right;\">\n",
              "      <th></th>\n",
              "      <th>ENTRIES</th>\n",
              "      <th>EXITS</th>\n",
              "      <th>ENTRY COUNT</th>\n",
              "      <th>EXIT COUNT</th>\n",
              "    </tr>\n",
              "  </thead>\n",
              "  <tbody>\n",
              "    <tr>\n",
              "      <th>count</th>\n",
              "      <td>6.026360e+05</td>\n",
              "      <td>6.026360e+05</td>\n",
              "      <td>602636.000000</td>\n",
              "      <td>602636.000000</td>\n",
              "    </tr>\n",
              "    <tr>\n",
              "      <th>mean</th>\n",
              "      <td>2.785908e+07</td>\n",
              "      <td>2.016344e+07</td>\n",
              "      <td>172.095854</td>\n",
              "      <td>135.882961</td>\n",
              "    </tr>\n",
              "    <tr>\n",
              "      <th>std</th>\n",
              "      <td>1.588826e+08</td>\n",
              "      <td>1.360033e+08</td>\n",
              "      <td>251.462361</td>\n",
              "      <td>233.056615</td>\n",
              "    </tr>\n",
              "    <tr>\n",
              "      <th>min</th>\n",
              "      <td>0.000000e+00</td>\n",
              "      <td>0.000000e+00</td>\n",
              "      <td>0.000000</td>\n",
              "      <td>0.000000</td>\n",
              "    </tr>\n",
              "    <tr>\n",
              "      <th>25%</th>\n",
              "      <td>3.367968e+05</td>\n",
              "      <td>1.389408e+05</td>\n",
              "      <td>10.000000</td>\n",
              "      <td>8.000000</td>\n",
              "    </tr>\n",
              "    <tr>\n",
              "      <th>50%</th>\n",
              "      <td>2.121494e+06</td>\n",
              "      <td>1.207656e+06</td>\n",
              "      <td>72.000000</td>\n",
              "      <td>51.000000</td>\n",
              "    </tr>\n",
              "    <tr>\n",
              "      <th>75%</th>\n",
              "      <td>6.466618e+06</td>\n",
              "      <td>4.417960e+06</td>\n",
              "      <td>235.000000</td>\n",
              "      <td>164.000000</td>\n",
              "    </tr>\n",
              "    <tr>\n",
              "      <th>max</th>\n",
              "      <td>2.115823e+09</td>\n",
              "      <td>2.037820e+09</td>\n",
              "      <td>13759.000000</td>\n",
              "      <td>9407.000000</td>\n",
              "    </tr>\n",
              "  </tbody>\n",
              "</table>\n",
              "</div>"
            ],
            "text/plain": [
              "            ENTRIES         EXITS    ENTRY COUNT     EXIT COUNT\n",
              "count  6.026360e+05  6.026360e+05  602636.000000  602636.000000\n",
              "mean   2.785908e+07  2.016344e+07     172.095854     135.882961\n",
              "std    1.588826e+08  1.360033e+08     251.462361     233.056615\n",
              "min    0.000000e+00  0.000000e+00       0.000000       0.000000\n",
              "25%    3.367968e+05  1.389408e+05      10.000000       8.000000\n",
              "50%    2.121494e+06  1.207656e+06      72.000000      51.000000\n",
              "75%    6.466618e+06  4.417960e+06     235.000000     164.000000\n",
              "max    2.115823e+09  2.037820e+09   13759.000000    9407.000000"
            ]
          },
          "metadata": {
            "tags": []
          },
          "execution_count": 17
        }
      ]
    },
    {
      "cell_type": "markdown",
      "metadata": {
        "id": "57xPuuXprZDf",
        "colab_type": "text"
      },
      "source": [
        "Finally, we grouped data by **STATION** and **LINENAME** because some big stations have different exits or locations depending on the train line."
      ]
    },
    {
      "cell_type": "code",
      "metadata": {
        "id": "IlEDOBV-p8fu",
        "colab_type": "code",
        "colab": {
          "base_uri": "https://localhost:8080/",
          "height": 348
        },
        "outputId": "5680ef2a-33c3-48c0-a363-8b1c8300efb5"
      },
      "source": [
        "final = df.groupby(['STATION', 'LINENAME']).agg({'ENTRY COUNT' : 'sum', 'EXIT COUNT' : 'sum'})\n",
        "final.reset_index(inplace=True)\n",
        "final['TOTAL TRAFFIC'] = final['ENTRY COUNT'] + final['EXIT COUNT']\n",
        "top = final.sort_values('EXIT COUNT', ascending=False).head(10)\n",
        "top"
      ],
      "execution_count": 20,
      "outputs": [
        {
          "output_type": "execute_result",
          "data": {
            "text/html": [
              "<div>\n",
              "<style scoped>\n",
              "    .dataframe tbody tr th:only-of-type {\n",
              "        vertical-align: middle;\n",
              "    }\n",
              "\n",
              "    .dataframe tbody tr th {\n",
              "        vertical-align: top;\n",
              "    }\n",
              "\n",
              "    .dataframe thead th {\n",
              "        text-align: right;\n",
              "    }\n",
              "</style>\n",
              "<table border=\"1\" class=\"dataframe\">\n",
              "  <thead>\n",
              "    <tr style=\"text-align: right;\">\n",
              "      <th></th>\n",
              "      <th>STATION</th>\n",
              "      <th>LINENAME</th>\n",
              "      <th>ENTRY COUNT</th>\n",
              "      <th>EXIT COUNT</th>\n",
              "      <th>TOTAL TRAFFIC</th>\n",
              "    </tr>\n",
              "  </thead>\n",
              "  <tbody>\n",
              "    <tr>\n",
              "      <th>311</th>\n",
              "      <td>GRD CNTRL-42 ST</td>\n",
              "      <td>4567S</td>\n",
              "      <td>2639828.0</td>\n",
              "      <td>2326228.0</td>\n",
              "      <td>4966056.0</td>\n",
              "    </tr>\n",
              "    <tr>\n",
              "      <th>89</th>\n",
              "      <td>34 ST-HERALD SQ</td>\n",
              "      <td>BDFMNQRW</td>\n",
              "      <td>2129151.0</td>\n",
              "      <td>2011772.0</td>\n",
              "      <td>4140923.0</td>\n",
              "    </tr>\n",
              "    <tr>\n",
              "      <th>93</th>\n",
              "      <td>34 ST-PENN STA</td>\n",
              "      <td>ACE</td>\n",
              "      <td>1527514.0</td>\n",
              "      <td>1383212.0</td>\n",
              "      <td>2910726.0</td>\n",
              "    </tr>\n",
              "    <tr>\n",
              "      <th>102</th>\n",
              "      <td>42 ST-PORT AUTH</td>\n",
              "      <td>ACENQRS1237W</td>\n",
              "      <td>1439824.0</td>\n",
              "      <td>1209977.0</td>\n",
              "      <td>2649801.0</td>\n",
              "    </tr>\n",
              "    <tr>\n",
              "      <th>446</th>\n",
              "      <td>TIMES SQ-42 ST</td>\n",
              "      <td>1237ACENQRSW</td>\n",
              "      <td>1261544.0</td>\n",
              "      <td>1207689.0</td>\n",
              "      <td>2469233.0</td>\n",
              "    </tr>\n",
              "    <tr>\n",
              "      <th>27</th>\n",
              "      <td>14 ST-UNION SQ</td>\n",
              "      <td>LNQR456W</td>\n",
              "      <td>1330276.0</td>\n",
              "      <td>1199564.0</td>\n",
              "      <td>2529840.0</td>\n",
              "    </tr>\n",
              "    <tr>\n",
              "      <th>106</th>\n",
              "      <td>47-50 STS ROCK</td>\n",
              "      <td>BDFM</td>\n",
              "      <td>1064730.0</td>\n",
              "      <td>1099616.0</td>\n",
              "      <td>2164346.0</td>\n",
              "    </tr>\n",
              "    <tr>\n",
              "      <th>301</th>\n",
              "      <td>FULTON ST</td>\n",
              "      <td>2345ACJZ</td>\n",
              "      <td>1103759.0</td>\n",
              "      <td>1089165.0</td>\n",
              "      <td>2192924.0</td>\n",
              "    </tr>\n",
              "    <tr>\n",
              "      <th>125</th>\n",
              "      <td>59 ST COLUMBUS</td>\n",
              "      <td>ABCD1</td>\n",
              "      <td>1099081.0</td>\n",
              "      <td>908617.0</td>\n",
              "      <td>2007698.0</td>\n",
              "    </tr>\n",
              "    <tr>\n",
              "      <th>402</th>\n",
              "      <td>PATH NEW WTC</td>\n",
              "      <td>1</td>\n",
              "      <td>956183.0</td>\n",
              "      <td>864703.0</td>\n",
              "      <td>1820886.0</td>\n",
              "    </tr>\n",
              "  </tbody>\n",
              "</table>\n",
              "</div>"
            ],
            "text/plain": [
              "             STATION      LINENAME  ENTRY COUNT  EXIT COUNT  TOTAL TRAFFIC\n",
              "311  GRD CNTRL-42 ST         4567S    2639828.0   2326228.0      4966056.0\n",
              "89   34 ST-HERALD SQ      BDFMNQRW    2129151.0   2011772.0      4140923.0\n",
              "93    34 ST-PENN STA           ACE    1527514.0   1383212.0      2910726.0\n",
              "102  42 ST-PORT AUTH  ACENQRS1237W    1439824.0   1209977.0      2649801.0\n",
              "446   TIMES SQ-42 ST  1237ACENQRSW    1261544.0   1207689.0      2469233.0\n",
              "27    14 ST-UNION SQ      LNQR456W    1330276.0   1199564.0      2529840.0\n",
              "106   47-50 STS ROCK          BDFM    1064730.0   1099616.0      2164346.0\n",
              "301        FULTON ST      2345ACJZ    1103759.0   1089165.0      2192924.0\n",
              "125   59 ST COLUMBUS         ABCD1    1099081.0    908617.0      2007698.0\n",
              "402     PATH NEW WTC             1     956183.0    864703.0      1820886.0"
            ]
          },
          "metadata": {
            "tags": []
          },
          "execution_count": 20
        }
      ]
    },
    {
      "cell_type": "code",
      "metadata": {
        "id": "Olh8n72nr_-x",
        "colab_type": "code",
        "colab": {}
      },
      "source": [
        ""
      ],
      "execution_count": 0,
      "outputs": []
    },
    {
      "cell_type": "code",
      "metadata": {
        "id": "gVrAd4d5saHE",
        "colab_type": "code",
        "colab": {}
      },
      "source": [
        ""
      ],
      "execution_count": 0,
      "outputs": []
    },
    {
      "cell_type": "markdown",
      "metadata": {
        "id": "AzRBb1MZsbLI",
        "colab_type": "text"
      },
      "source": [
        "# Geolocation Section"
      ]
    },
    {
      "cell_type": "code",
      "metadata": {
        "id": "K4_gAdFYsZwc",
        "colab_type": "code",
        "colab": {
          "base_uri": "https://localhost:8080/",
          "height": 388
        },
        "outputId": "91accae3-a64f-438c-9602-4b3072f73baf"
      },
      "source": [
        "locdf = pd.read_csv(\"http://web.mta.info/developers/data/nyct/subway/Stations.csv\")\n",
        "locdf.head()"
      ],
      "execution_count": 21,
      "outputs": [
        {
          "output_type": "execute_result",
          "data": {
            "text/html": [
              "<div>\n",
              "<style scoped>\n",
              "    .dataframe tbody tr th:only-of-type {\n",
              "        vertical-align: middle;\n",
              "    }\n",
              "\n",
              "    .dataframe tbody tr th {\n",
              "        vertical-align: top;\n",
              "    }\n",
              "\n",
              "    .dataframe thead th {\n",
              "        text-align: right;\n",
              "    }\n",
              "</style>\n",
              "<table border=\"1\" class=\"dataframe\">\n",
              "  <thead>\n",
              "    <tr style=\"text-align: right;\">\n",
              "      <th></th>\n",
              "      <th>Station ID</th>\n",
              "      <th>Complex ID</th>\n",
              "      <th>GTFS Stop ID</th>\n",
              "      <th>Division</th>\n",
              "      <th>Line</th>\n",
              "      <th>Stop Name</th>\n",
              "      <th>Borough</th>\n",
              "      <th>Daytime Routes</th>\n",
              "      <th>Structure</th>\n",
              "      <th>GTFS Latitude</th>\n",
              "      <th>GTFS Longitude</th>\n",
              "      <th>North Direction Label</th>\n",
              "      <th>South Direction Label</th>\n",
              "    </tr>\n",
              "  </thead>\n",
              "  <tbody>\n",
              "    <tr>\n",
              "      <th>0</th>\n",
              "      <td>1</td>\n",
              "      <td>1</td>\n",
              "      <td>R01</td>\n",
              "      <td>BMT</td>\n",
              "      <td>Astoria</td>\n",
              "      <td>Astoria - Ditmars Blvd</td>\n",
              "      <td>Q</td>\n",
              "      <td>N W</td>\n",
              "      <td>Elevated</td>\n",
              "      <td>40.775036</td>\n",
              "      <td>-73.912034</td>\n",
              "      <td>NaN</td>\n",
              "      <td>Manhattan</td>\n",
              "    </tr>\n",
              "    <tr>\n",
              "      <th>1</th>\n",
              "      <td>2</td>\n",
              "      <td>2</td>\n",
              "      <td>R03</td>\n",
              "      <td>BMT</td>\n",
              "      <td>Astoria</td>\n",
              "      <td>Astoria Blvd</td>\n",
              "      <td>Q</td>\n",
              "      <td>N W</td>\n",
              "      <td>Elevated</td>\n",
              "      <td>40.770258</td>\n",
              "      <td>-73.917843</td>\n",
              "      <td>Ditmars Blvd</td>\n",
              "      <td>Manhattan</td>\n",
              "    </tr>\n",
              "    <tr>\n",
              "      <th>2</th>\n",
              "      <td>3</td>\n",
              "      <td>3</td>\n",
              "      <td>R04</td>\n",
              "      <td>BMT</td>\n",
              "      <td>Astoria</td>\n",
              "      <td>30 Av</td>\n",
              "      <td>Q</td>\n",
              "      <td>N W</td>\n",
              "      <td>Elevated</td>\n",
              "      <td>40.766779</td>\n",
              "      <td>-73.921479</td>\n",
              "      <td>Astoria - Ditmars Blvd</td>\n",
              "      <td>Manhattan</td>\n",
              "    </tr>\n",
              "    <tr>\n",
              "      <th>3</th>\n",
              "      <td>4</td>\n",
              "      <td>4</td>\n",
              "      <td>R05</td>\n",
              "      <td>BMT</td>\n",
              "      <td>Astoria</td>\n",
              "      <td>Broadway</td>\n",
              "      <td>Q</td>\n",
              "      <td>N W</td>\n",
              "      <td>Elevated</td>\n",
              "      <td>40.761820</td>\n",
              "      <td>-73.925508</td>\n",
              "      <td>Astoria - Ditmars Blvd</td>\n",
              "      <td>Manhattan</td>\n",
              "    </tr>\n",
              "    <tr>\n",
              "      <th>4</th>\n",
              "      <td>5</td>\n",
              "      <td>5</td>\n",
              "      <td>R06</td>\n",
              "      <td>BMT</td>\n",
              "      <td>Astoria</td>\n",
              "      <td>36 Av</td>\n",
              "      <td>Q</td>\n",
              "      <td>N W</td>\n",
              "      <td>Elevated</td>\n",
              "      <td>40.756804</td>\n",
              "      <td>-73.929575</td>\n",
              "      <td>Astoria - Ditmars Blvd</td>\n",
              "      <td>Manhattan</td>\n",
              "    </tr>\n",
              "  </tbody>\n",
              "</table>\n",
              "</div>"
            ],
            "text/plain": [
              "   Station ID  Complex ID  ...   North Direction Label South Direction Label\n",
              "0           1           1  ...                     NaN             Manhattan\n",
              "1           2           2  ...            Ditmars Blvd             Manhattan\n",
              "2           3           3  ...  Astoria - Ditmars Blvd             Manhattan\n",
              "3           4           4  ...  Astoria - Ditmars Blvd             Manhattan\n",
              "4           5           5  ...  Astoria - Ditmars Blvd             Manhattan\n",
              "\n",
              "[5 rows x 13 columns]"
            ]
          },
          "metadata": {
            "tags": []
          },
          "execution_count": 21
        }
      ]
    },
    {
      "cell_type": "code",
      "metadata": {
        "id": "N_MMlOx4spsJ",
        "colab_type": "code",
        "colab": {}
      },
      "source": [
        "# names of the top 10 stations reformatted to match \"Stop Name\" in locdf\n",
        "\n",
        "names = ['Grand Central - 42 St', \n",
        "         '34 St - Herald Sq', \n",
        "         '34 St - Penn Station', \n",
        "         '42 St - Port Authority Bus Terminal', \n",
        "         'Times Sq - 42 St',\n",
        "         'Union Sq - 14 St',\n",
        "         '47-50 Sts - Rockefeller Ctr',\n",
        "         'Fulton St',\n",
        "         '59 St - Columbus Circle',\n",
        "         'World Trade Center'\n",
        "         ]"
      ],
      "execution_count": 0,
      "outputs": []
    },
    {
      "cell_type": "code",
      "metadata": {
        "id": "zmygqpAgs3bs",
        "colab_type": "code",
        "colab": {
          "base_uri": "https://localhost:8080/",
          "height": 348
        },
        "outputId": "cd1f3ce9-21b0-4f00-bee2-f26c9e4824fd"
      },
      "source": [
        "# Data Cleaning\n",
        "\n",
        "loc_subset = locdf[['Stop Name', 'GTFS Latitude', 'GTFS Longitude' ]]\n",
        "loc_subset = loc_subset[loc_subset['Stop Name'].isin(names)]\n",
        "loc_subset = loc_subset.reset_index(drop=True)\n",
        "\n",
        "loc_subset.drop_duplicates(subset = \"Stop Name\", keep = 'first', inplace = True)\n",
        "\n",
        "loc_subset\n"
      ],
      "execution_count": 29,
      "outputs": [
        {
          "output_type": "execute_result",
          "data": {
            "text/html": [
              "<div>\n",
              "<style scoped>\n",
              "    .dataframe tbody tr th:only-of-type {\n",
              "        vertical-align: middle;\n",
              "    }\n",
              "\n",
              "    .dataframe tbody tr th {\n",
              "        vertical-align: top;\n",
              "    }\n",
              "\n",
              "    .dataframe thead th {\n",
              "        text-align: right;\n",
              "    }\n",
              "</style>\n",
              "<table border=\"1\" class=\"dataframe\">\n",
              "  <thead>\n",
              "    <tr style=\"text-align: right;\">\n",
              "      <th></th>\n",
              "      <th>Stop Name</th>\n",
              "      <th>GTFS Latitude</th>\n",
              "      <th>GTFS Longitude</th>\n",
              "    </tr>\n",
              "  </thead>\n",
              "  <tbody>\n",
              "    <tr>\n",
              "      <th>0</th>\n",
              "      <td>Times Sq - 42 St</td>\n",
              "      <td>40.754672</td>\n",
              "      <td>-73.986754</td>\n",
              "    </tr>\n",
              "    <tr>\n",
              "      <th>1</th>\n",
              "      <td>34 St - Herald Sq</td>\n",
              "      <td>40.749567</td>\n",
              "      <td>-73.987950</td>\n",
              "    </tr>\n",
              "    <tr>\n",
              "      <th>2</th>\n",
              "      <td>Fulton St</td>\n",
              "      <td>40.710374</td>\n",
              "      <td>-74.007582</td>\n",
              "    </tr>\n",
              "    <tr>\n",
              "      <th>3</th>\n",
              "      <td>Union Sq - 14 St</td>\n",
              "      <td>40.734789</td>\n",
              "      <td>-73.990730</td>\n",
              "    </tr>\n",
              "    <tr>\n",
              "      <th>4</th>\n",
              "      <td>59 St - Columbus Circle</td>\n",
              "      <td>40.768296</td>\n",
              "      <td>-73.981736</td>\n",
              "    </tr>\n",
              "    <tr>\n",
              "      <th>5</th>\n",
              "      <td>42 St - Port Authority Bus Terminal</td>\n",
              "      <td>40.757308</td>\n",
              "      <td>-73.989735</td>\n",
              "    </tr>\n",
              "    <tr>\n",
              "      <th>6</th>\n",
              "      <td>34 St - Penn Station</td>\n",
              "      <td>40.752287</td>\n",
              "      <td>-73.993391</td>\n",
              "    </tr>\n",
              "    <tr>\n",
              "      <th>7</th>\n",
              "      <td>World Trade Center</td>\n",
              "      <td>40.712582</td>\n",
              "      <td>-74.009781</td>\n",
              "    </tr>\n",
              "    <tr>\n",
              "      <th>9</th>\n",
              "      <td>47-50 Sts - Rockefeller Ctr</td>\n",
              "      <td>40.758663</td>\n",
              "      <td>-73.981329</td>\n",
              "    </tr>\n",
              "    <tr>\n",
              "      <th>16</th>\n",
              "      <td>Grand Central - 42 St</td>\n",
              "      <td>40.751776</td>\n",
              "      <td>-73.976848</td>\n",
              "    </tr>\n",
              "  </tbody>\n",
              "</table>\n",
              "</div>"
            ],
            "text/plain": [
              "                              Stop Name  GTFS Latitude  GTFS Longitude\n",
              "0                      Times Sq - 42 St      40.754672      -73.986754\n",
              "1                     34 St - Herald Sq      40.749567      -73.987950\n",
              "2                             Fulton St      40.710374      -74.007582\n",
              "3                      Union Sq - 14 St      40.734789      -73.990730\n",
              "4               59 St - Columbus Circle      40.768296      -73.981736\n",
              "5   42 St - Port Authority Bus Terminal      40.757308      -73.989735\n",
              "6                  34 St - Penn Station      40.752287      -73.993391\n",
              "7                    World Trade Center      40.712582      -74.009781\n",
              "9           47-50 Sts - Rockefeller Ctr      40.758663      -73.981329\n",
              "16                Grand Central - 42 St      40.751776      -73.976848"
            ]
          },
          "metadata": {
            "tags": []
          },
          "execution_count": 29
        }
      ]
    },
    {
      "cell_type": "code",
      "metadata": {
        "id": "mqQBH3p2tD3c",
        "colab_type": "code",
        "colab": {
          "base_uri": "https://localhost:8080/",
          "height": 634
        },
        "outputId": "f2ecc85c-ec31-40f3-863b-82255f14c1a5"
      },
      "source": [
        "\n",
        "map_osm = folium.Map(location=[40.7580, -73.9855], zoom_start=12.2)\n",
        "\n",
        "loc_subset.apply(lambda row:folium.CircleMarker(location=[row[\"GTFS Latitude\"], row[\"GTFS Longitude\"]], \n",
        "                                              radius=2, fill_color = 'red')\n",
        "                                             .add_to(map_osm), axis=1)\n",
        "\n",
        "map_osm"
      ],
      "execution_count": 39,
      "outputs": [
        {
          "output_type": "execute_result",
          "data": {
            "text/html": [
              "<div style=\"width:100%;\"><div style=\"position:relative;width:100%;height:0;padding-bottom:60%;\"><iframe src=\"data:text/html;charset=utf-8;base64,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\" style=\"position:absolute;width:100%;height:100%;left:0;top:0;border:none !important;\" allowfullscreen webkitallowfullscreen mozallowfullscreen></iframe></div></div>"
            ],
            "text/plain": [
              "<folium.folium.Map at 0x7f3bad7a11d0>"
            ]
          },
          "metadata": {
            "tags": []
          },
          "execution_count": 39
        }
      ]
    },
    {
      "cell_type": "code",
      "metadata": {
        "id": "r1U1YBL3urN6",
        "colab_type": "code",
        "colab": {}
      },
      "source": [
        ""
      ],
      "execution_count": 0,
      "outputs": []
    }
  ]
}