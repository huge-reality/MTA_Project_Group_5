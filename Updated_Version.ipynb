{
  "nbformat": 4,
  "nbformat_minor": 0,
  "metadata": {
    "colab": {
      "name": "Updated Version.ipynb",
      "provenance": [],
      "collapsed_sections": []
    },
    "kernelspec": {
      "name": "python3",
      "display_name": "Python 3"
    },
    "accelerator": "GPU"
  },
  "cells": [
    {
      "cell_type": "code",
      "metadata": {
        "id": "eEr1P2DDXuIf",
        "colab_type": "code",
        "colab": {}
      },
      "source": [
        "import pandas as pd\n",
        "import numpy as np\n",
        "import matplotlib.pyplot as plt\n"
      ],
      "execution_count": 0,
      "outputs": []
    },
    {
      "cell_type": "code",
      "metadata": {
        "id": "8PUQcOi_YS5t",
        "colab_type": "code",
        "colab": {}
      },
      "source": [
        "#df = pd.read_csv('http://web.mta.info/developers/data/nyct/turnstile/turnstile_180505.txt')\n",
        "df1 = pd.read_csv('http://web.mta.info/developers/data/nyct/turnstile/turnstile_190427.txt')\n",
        "df2 = pd.read_csv('http://web.mta.info/developers/data/nyct/turnstile/turnstile_190504.txt')\n",
        "df3 = pd.read_csv('http://web.mta.info/developers/data/nyct/turnstile/turnstile_190511.txt')\n",
        "\n",
        "\n"
      ],
      "execution_count": 0,
      "outputs": []
    },
    {
      "cell_type": "code",
      "metadata": {
        "id": "VLj0ge_NJqYm",
        "colab_type": "code",
        "colab": {
          "base_uri": "https://localhost:8080/",
          "height": 69
        },
        "outputId": "3479932f-6eaf-4f47-9218-8160c5538f7f"
      },
      "source": [
        "print(len(df1) + len(df2) + len(df3))\n",
        "print(len(df2))\n",
        "print(len(df3))\n"
      ],
      "execution_count": 3,
      "outputs": [
        {
          "output_type": "stream",
          "text": [
            "614802\n",
            "206857\n",
            "204088\n"
          ],
          "name": "stdout"
        }
      ]
    },
    {
      "cell_type": "code",
      "metadata": {
        "id": "IN3_jZFuJ7GQ",
        "colab_type": "code",
        "colab": {}
      },
      "source": [
        "df = df1.append([df2, df3])"
      ],
      "execution_count": 0,
      "outputs": []
    },
    {
      "cell_type": "code",
      "metadata": {
        "id": "yUK8a0CXKIod",
        "colab_type": "code",
        "colab": {
          "base_uri": "https://localhost:8080/",
          "height": 35
        },
        "outputId": "4256abbe-0dd3-4c01-96b1-05ad2995f12d"
      },
      "source": [
        "len(df)"
      ],
      "execution_count": 5,
      "outputs": [
        {
          "output_type": "execute_result",
          "data": {
            "text/plain": [
              "614802"
            ]
          },
          "metadata": {
            "tags": []
          },
          "execution_count": 5
        }
      ]
    },
    {
      "cell_type": "code",
      "metadata": {
        "id": "p44Y8tp5YUH3",
        "colab_type": "code",
        "colab": {}
      },
      "source": [
        "df.columns = df.columns.str.strip()"
      ],
      "execution_count": 0,
      "outputs": []
    },
    {
      "cell_type": "code",
      "metadata": {
        "id": "D6DglzPgYkz1",
        "colab_type": "code",
        "outputId": "468846b7-92e1-4129-de5e-3a5620618e7f",
        "colab": {
          "base_uri": "https://localhost:8080/",
          "height": 198
        }
      },
      "source": [
        "df.tail()"
      ],
      "execution_count": 7,
      "outputs": [
        {
          "output_type": "execute_result",
          "data": {
            "text/html": [
              "<div>\n",
              "<style scoped>\n",
              "    .dataframe tbody tr th:only-of-type {\n",
              "        vertical-align: middle;\n",
              "    }\n",
              "\n",
              "    .dataframe tbody tr th {\n",
              "        vertical-align: top;\n",
              "    }\n",
              "\n",
              "    .dataframe thead th {\n",
              "        text-align: right;\n",
              "    }\n",
              "</style>\n",
              "<table border=\"1\" class=\"dataframe\">\n",
              "  <thead>\n",
              "    <tr style=\"text-align: right;\">\n",
              "      <th></th>\n",
              "      <th>C/A</th>\n",
              "      <th>UNIT</th>\n",
              "      <th>SCP</th>\n",
              "      <th>STATION</th>\n",
              "      <th>LINENAME</th>\n",
              "      <th>DIVISION</th>\n",
              "      <th>DATE</th>\n",
              "      <th>TIME</th>\n",
              "      <th>DESC</th>\n",
              "      <th>ENTRIES</th>\n",
              "      <th>EXITS</th>\n",
              "    </tr>\n",
              "  </thead>\n",
              "  <tbody>\n",
              "    <tr>\n",
              "      <th>204083</th>\n",
              "      <td>TRAM2</td>\n",
              "      <td>R469</td>\n",
              "      <td>00-05-01</td>\n",
              "      <td>RIT-ROOSEVELT</td>\n",
              "      <td>R</td>\n",
              "      <td>RIT</td>\n",
              "      <td>05/10/2019</td>\n",
              "      <td>05:00:00</td>\n",
              "      <td>REGULAR</td>\n",
              "      <td>5554</td>\n",
              "      <td>376</td>\n",
              "    </tr>\n",
              "    <tr>\n",
              "      <th>204084</th>\n",
              "      <td>TRAM2</td>\n",
              "      <td>R469</td>\n",
              "      <td>00-05-01</td>\n",
              "      <td>RIT-ROOSEVELT</td>\n",
              "      <td>R</td>\n",
              "      <td>RIT</td>\n",
              "      <td>05/10/2019</td>\n",
              "      <td>09:00:00</td>\n",
              "      <td>REGULAR</td>\n",
              "      <td>5554</td>\n",
              "      <td>376</td>\n",
              "    </tr>\n",
              "    <tr>\n",
              "      <th>204085</th>\n",
              "      <td>TRAM2</td>\n",
              "      <td>R469</td>\n",
              "      <td>00-05-01</td>\n",
              "      <td>RIT-ROOSEVELT</td>\n",
              "      <td>R</td>\n",
              "      <td>RIT</td>\n",
              "      <td>05/10/2019</td>\n",
              "      <td>13:00:00</td>\n",
              "      <td>REGULAR</td>\n",
              "      <td>5554</td>\n",
              "      <td>376</td>\n",
              "    </tr>\n",
              "    <tr>\n",
              "      <th>204086</th>\n",
              "      <td>TRAM2</td>\n",
              "      <td>R469</td>\n",
              "      <td>00-05-01</td>\n",
              "      <td>RIT-ROOSEVELT</td>\n",
              "      <td>R</td>\n",
              "      <td>RIT</td>\n",
              "      <td>05/10/2019</td>\n",
              "      <td>17:00:00</td>\n",
              "      <td>REGULAR</td>\n",
              "      <td>5554</td>\n",
              "      <td>376</td>\n",
              "    </tr>\n",
              "    <tr>\n",
              "      <th>204087</th>\n",
              "      <td>TRAM2</td>\n",
              "      <td>R469</td>\n",
              "      <td>00-05-01</td>\n",
              "      <td>RIT-ROOSEVELT</td>\n",
              "      <td>R</td>\n",
              "      <td>RIT</td>\n",
              "      <td>05/10/2019</td>\n",
              "      <td>21:00:00</td>\n",
              "      <td>REGULAR</td>\n",
              "      <td>5554</td>\n",
              "      <td>376</td>\n",
              "    </tr>\n",
              "  </tbody>\n",
              "</table>\n",
              "</div>"
            ],
            "text/plain": [
              "          C/A  UNIT       SCP        STATION  ...      TIME     DESC ENTRIES EXITS\n",
              "204083  TRAM2  R469  00-05-01  RIT-ROOSEVELT  ...  05:00:00  REGULAR    5554   376\n",
              "204084  TRAM2  R469  00-05-01  RIT-ROOSEVELT  ...  09:00:00  REGULAR    5554   376\n",
              "204085  TRAM2  R469  00-05-01  RIT-ROOSEVELT  ...  13:00:00  REGULAR    5554   376\n",
              "204086  TRAM2  R469  00-05-01  RIT-ROOSEVELT  ...  17:00:00  REGULAR    5554   376\n",
              "204087  TRAM2  R469  00-05-01  RIT-ROOSEVELT  ...  21:00:00  REGULAR    5554   376\n",
              "\n",
              "[5 rows x 11 columns]"
            ]
          },
          "metadata": {
            "tags": []
          },
          "execution_count": 7
        }
      ]
    },
    {
      "cell_type": "code",
      "metadata": {
        "id": "jGuBLi8g7GeF",
        "colab_type": "code",
        "colab": {}
      },
      "source": [
        "# Create DATETIME column and convert string to datetime object\n",
        "\n",
        "df['DATETIME'] = df['DATE'] + ' ' + df['TIME']\n",
        "df['DATETIME'] = pd.to_datetime(df['DATETIME'], format=\"%m/%d/%Y %H:%M:%S\")\n",
        "df.drop(columns=['DATE', 'TIME'], inplace=True)"
      ],
      "execution_count": 0,
      "outputs": []
    },
    {
      "cell_type": "code",
      "metadata": {
        "id": "AY1NTq1W7mjJ",
        "colab_type": "code",
        "colab": {}
      },
      "source": [
        "df['DAY'] = df['DATETIME'].dt.day_name()"
      ],
      "execution_count": 0,
      "outputs": []
    },
    {
      "cell_type": "code",
      "metadata": {
        "id": "cM5qfzG38V-X",
        "colab_type": "code",
        "colab": {
          "base_uri": "https://localhost:8080/",
          "height": 198
        },
        "outputId": "62840ada-7ca1-4b47-9e21-ce94e13b7c6e"
      },
      "source": [
        "df.head()"
      ],
      "execution_count": 10,
      "outputs": [
        {
          "output_type": "execute_result",
          "data": {
            "text/html": [
              "<div>\n",
              "<style scoped>\n",
              "    .dataframe tbody tr th:only-of-type {\n",
              "        vertical-align: middle;\n",
              "    }\n",
              "\n",
              "    .dataframe tbody tr th {\n",
              "        vertical-align: top;\n",
              "    }\n",
              "\n",
              "    .dataframe thead th {\n",
              "        text-align: right;\n",
              "    }\n",
              "</style>\n",
              "<table border=\"1\" class=\"dataframe\">\n",
              "  <thead>\n",
              "    <tr style=\"text-align: right;\">\n",
              "      <th></th>\n",
              "      <th>C/A</th>\n",
              "      <th>UNIT</th>\n",
              "      <th>SCP</th>\n",
              "      <th>STATION</th>\n",
              "      <th>LINENAME</th>\n",
              "      <th>DIVISION</th>\n",
              "      <th>DESC</th>\n",
              "      <th>ENTRIES</th>\n",
              "      <th>EXITS</th>\n",
              "      <th>DATETIME</th>\n",
              "      <th>DAY</th>\n",
              "    </tr>\n",
              "  </thead>\n",
              "  <tbody>\n",
              "    <tr>\n",
              "      <th>0</th>\n",
              "      <td>A002</td>\n",
              "      <td>R051</td>\n",
              "      <td>02-00-00</td>\n",
              "      <td>59 ST</td>\n",
              "      <td>NQR456W</td>\n",
              "      <td>BMT</td>\n",
              "      <td>REGULAR</td>\n",
              "      <td>7026702</td>\n",
              "      <td>2382234</td>\n",
              "      <td>2019-04-20 00:00:00</td>\n",
              "      <td>Saturday</td>\n",
              "    </tr>\n",
              "    <tr>\n",
              "      <th>1</th>\n",
              "      <td>A002</td>\n",
              "      <td>R051</td>\n",
              "      <td>02-00-00</td>\n",
              "      <td>59 ST</td>\n",
              "      <td>NQR456W</td>\n",
              "      <td>BMT</td>\n",
              "      <td>REGULAR</td>\n",
              "      <td>7026719</td>\n",
              "      <td>2382240</td>\n",
              "      <td>2019-04-20 04:00:00</td>\n",
              "      <td>Saturday</td>\n",
              "    </tr>\n",
              "    <tr>\n",
              "      <th>2</th>\n",
              "      <td>A002</td>\n",
              "      <td>R051</td>\n",
              "      <td>02-00-00</td>\n",
              "      <td>59 ST</td>\n",
              "      <td>NQR456W</td>\n",
              "      <td>BMT</td>\n",
              "      <td>REGULAR</td>\n",
              "      <td>7026737</td>\n",
              "      <td>2382269</td>\n",
              "      <td>2019-04-20 08:00:00</td>\n",
              "      <td>Saturday</td>\n",
              "    </tr>\n",
              "    <tr>\n",
              "      <th>3</th>\n",
              "      <td>A002</td>\n",
              "      <td>R051</td>\n",
              "      <td>02-00-00</td>\n",
              "      <td>59 ST</td>\n",
              "      <td>NQR456W</td>\n",
              "      <td>BMT</td>\n",
              "      <td>REGULAR</td>\n",
              "      <td>7026814</td>\n",
              "      <td>2382335</td>\n",
              "      <td>2019-04-20 12:00:00</td>\n",
              "      <td>Saturday</td>\n",
              "    </tr>\n",
              "    <tr>\n",
              "      <th>4</th>\n",
              "      <td>A002</td>\n",
              "      <td>R051</td>\n",
              "      <td>02-00-00</td>\n",
              "      <td>59 ST</td>\n",
              "      <td>NQR456W</td>\n",
              "      <td>BMT</td>\n",
              "      <td>REGULAR</td>\n",
              "      <td>7027007</td>\n",
              "      <td>2382395</td>\n",
              "      <td>2019-04-20 16:00:00</td>\n",
              "      <td>Saturday</td>\n",
              "    </tr>\n",
              "  </tbody>\n",
              "</table>\n",
              "</div>"
            ],
            "text/plain": [
              "    C/A  UNIT       SCP STATION  ...  ENTRIES    EXITS            DATETIME       DAY\n",
              "0  A002  R051  02-00-00   59 ST  ...  7026702  2382234 2019-04-20 00:00:00  Saturday\n",
              "1  A002  R051  02-00-00   59 ST  ...  7026719  2382240 2019-04-20 04:00:00  Saturday\n",
              "2  A002  R051  02-00-00   59 ST  ...  7026737  2382269 2019-04-20 08:00:00  Saturday\n",
              "3  A002  R051  02-00-00   59 ST  ...  7026814  2382335 2019-04-20 12:00:00  Saturday\n",
              "4  A002  R051  02-00-00   59 ST  ...  7027007  2382395 2019-04-20 16:00:00  Saturday\n",
              "\n",
              "[5 rows x 11 columns]"
            ]
          },
          "metadata": {
            "tags": []
          },
          "execution_count": 10
        }
      ]
    },
    {
      "cell_type": "code",
      "metadata": {
        "id": "_s_GOHQd8Xel",
        "colab_type": "code",
        "colab": {}
      },
      "source": [
        "\n",
        "\n",
        "df['ENTRY COUNT'] = df.groupby(['UNIT', 'SCP'])['ENTRIES'].transform(lambda x: x.diff())\n",
        "df['EXIT COUNT'] = df.groupby(['UNIT', 'SCP'])['EXITS'].transform(lambda x: x.diff())"
      ],
      "execution_count": 0,
      "outputs": []
    },
    {
      "cell_type": "code",
      "metadata": {
        "id": "up2n2omAWBK2",
        "colab_type": "code",
        "colab": {}
      },
      "source": [
        ""
      ],
      "execution_count": 0,
      "outputs": []
    },
    {
      "cell_type": "code",
      "metadata": {
        "id": "EYIlGE6KAFbu",
        "colab_type": "code",
        "colab": {
          "base_uri": "https://localhost:8080/",
          "height": 173
        },
        "outputId": "e9eeadce-b376-41ea-d6cb-d5a32ef76e97"
      },
      "source": [
        "df['EXIT COUNT'].describe()"
      ],
      "execution_count": 12,
      "outputs": [
        {
          "output_type": "execute_result",
          "data": {
            "text/plain": [
              "count    6.099380e+05\n",
              "mean     1.860043e+03\n",
              "std      3.064132e+06\n",
              "min     -1.359348e+09\n",
              "25%      8.000000e+00\n",
              "50%      5.100000e+01\n",
              "75%      1.620000e+02\n",
              "max      1.078346e+09\n",
              "Name: EXIT COUNT, dtype: float64"
            ]
          },
          "metadata": {
            "tags": []
          },
          "execution_count": 12
        }
      ]
    },
    {
      "cell_type": "code",
      "metadata": {
        "id": "612TRmROAP-r",
        "colab_type": "code",
        "colab": {}
      },
      "source": [
        "df = df[(df['ENTRY COUNT'] >= 0) & (df['EXIT COUNT'] >= 0)]"
      ],
      "execution_count": 0,
      "outputs": []
    },
    {
      "cell_type": "code",
      "metadata": {
        "id": "9gc0teXiWWD_",
        "colab_type": "code",
        "colab": {
          "base_uri": "https://localhost:8080/",
          "height": 288
        },
        "outputId": "08d1ac03-29d0-4319-8e7f-698606c68f35"
      },
      "source": [
        "df.describe()"
      ],
      "execution_count": 14,
      "outputs": [
        {
          "output_type": "execute_result",
          "data": {
            "text/html": [
              "<div>\n",
              "<style scoped>\n",
              "    .dataframe tbody tr th:only-of-type {\n",
              "        vertical-align: middle;\n",
              "    }\n",
              "\n",
              "    .dataframe tbody tr th {\n",
              "        vertical-align: top;\n",
              "    }\n",
              "\n",
              "    .dataframe thead th {\n",
              "        text-align: right;\n",
              "    }\n",
              "</style>\n",
              "<table border=\"1\" class=\"dataframe\">\n",
              "  <thead>\n",
              "    <tr style=\"text-align: right;\">\n",
              "      <th></th>\n",
              "      <th>ENTRIES</th>\n",
              "      <th>EXITS</th>\n",
              "      <th>ENTRY COUNT</th>\n",
              "      <th>EXIT COUNT</th>\n",
              "    </tr>\n",
              "  </thead>\n",
              "  <tbody>\n",
              "    <tr>\n",
              "      <th>count</th>\n",
              "      <td>6.026730e+05</td>\n",
              "      <td>6.026730e+05</td>\n",
              "      <td>6.026730e+05</td>\n",
              "      <td>6.026730e+05</td>\n",
              "    </tr>\n",
              "    <tr>\n",
              "      <th>mean</th>\n",
              "      <td>2.786367e+07</td>\n",
              "      <td>2.016885e+07</td>\n",
              "      <td>6.446536e+03</td>\n",
              "      <td>6.742399e+03</td>\n",
              "    </tr>\n",
              "    <tr>\n",
              "      <th>std</th>\n",
              "      <td>1.588909e+08</td>\n",
              "      <td>1.360172e+08</td>\n",
              "      <td>2.110708e+06</td>\n",
              "      <td>2.269092e+06</td>\n",
              "    </tr>\n",
              "    <tr>\n",
              "      <th>min</th>\n",
              "      <td>0.000000e+00</td>\n",
              "      <td>0.000000e+00</td>\n",
              "      <td>0.000000e+00</td>\n",
              "      <td>0.000000e+00</td>\n",
              "    </tr>\n",
              "    <tr>\n",
              "      <th>25%</th>\n",
              "      <td>3.366980e+05</td>\n",
              "      <td>1.389650e+05</td>\n",
              "      <td>1.000000e+01</td>\n",
              "      <td>8.000000e+00</td>\n",
              "    </tr>\n",
              "    <tr>\n",
              "      <th>50%</th>\n",
              "      <td>2.121450e+06</td>\n",
              "      <td>1.207749e+06</td>\n",
              "      <td>7.200000e+01</td>\n",
              "      <td>5.100000e+01</td>\n",
              "    </tr>\n",
              "    <tr>\n",
              "      <th>75%</th>\n",
              "      <td>6.466613e+06</td>\n",
              "      <td>4.418113e+06</td>\n",
              "      <td>2.350000e+02</td>\n",
              "      <td>1.640000e+02</td>\n",
              "    </tr>\n",
              "    <tr>\n",
              "      <th>max</th>\n",
              "      <td>2.115823e+09</td>\n",
              "      <td>2.037820e+09</td>\n",
              "      <td>1.126553e+09</td>\n",
              "      <td>1.078346e+09</td>\n",
              "    </tr>\n",
              "  </tbody>\n",
              "</table>\n",
              "</div>"
            ],
            "text/plain": [
              "            ENTRIES         EXITS   ENTRY COUNT    EXIT COUNT\n",
              "count  6.026730e+05  6.026730e+05  6.026730e+05  6.026730e+05\n",
              "mean   2.786367e+07  2.016885e+07  6.446536e+03  6.742399e+03\n",
              "std    1.588909e+08  1.360172e+08  2.110708e+06  2.269092e+06\n",
              "min    0.000000e+00  0.000000e+00  0.000000e+00  0.000000e+00\n",
              "25%    3.366980e+05  1.389650e+05  1.000000e+01  8.000000e+00\n",
              "50%    2.121450e+06  1.207749e+06  7.200000e+01  5.100000e+01\n",
              "75%    6.466613e+06  4.418113e+06  2.350000e+02  1.640000e+02\n",
              "max    2.115823e+09  2.037820e+09  1.126553e+09  1.078346e+09"
            ]
          },
          "metadata": {
            "tags": []
          },
          "execution_count": 14
        }
      ]
    },
    {
      "cell_type": "code",
      "metadata": {
        "id": "Io1um8yUAwQi",
        "colab_type": "code",
        "colab": {
          "base_uri": "https://localhost:8080/",
          "height": 35
        },
        "outputId": "8a28c2fc-7555-461f-cac6-8c178cf445fe"
      },
      "source": [
        "len(df)\n",
        "df['ENTRY COUNT'].max()"
      ],
      "execution_count": 15,
      "outputs": [
        {
          "output_type": "execute_result",
          "data": {
            "text/plain": [
              "1126552843.0"
            ]
          },
          "metadata": {
            "tags": []
          },
          "execution_count": 15
        }
      ]
    },
    {
      "cell_type": "code",
      "metadata": {
        "id": "d840AkQGAxQD",
        "colab_type": "code",
        "colab": {
          "base_uri": "https://localhost:8080/",
          "height": 288
        },
        "outputId": "947cfb57-0bd4-4a31-ece1-1aab83b1b8d3"
      },
      "source": [
        "df.describe()"
      ],
      "execution_count": 16,
      "outputs": [
        {
          "output_type": "execute_result",
          "data": {
            "text/html": [
              "<div>\n",
              "<style scoped>\n",
              "    .dataframe tbody tr th:only-of-type {\n",
              "        vertical-align: middle;\n",
              "    }\n",
              "\n",
              "    .dataframe tbody tr th {\n",
              "        vertical-align: top;\n",
              "    }\n",
              "\n",
              "    .dataframe thead th {\n",
              "        text-align: right;\n",
              "    }\n",
              "</style>\n",
              "<table border=\"1\" class=\"dataframe\">\n",
              "  <thead>\n",
              "    <tr style=\"text-align: right;\">\n",
              "      <th></th>\n",
              "      <th>ENTRIES</th>\n",
              "      <th>EXITS</th>\n",
              "      <th>ENTRY COUNT</th>\n",
              "      <th>EXIT COUNT</th>\n",
              "    </tr>\n",
              "  </thead>\n",
              "  <tbody>\n",
              "    <tr>\n",
              "      <th>count</th>\n",
              "      <td>6.026730e+05</td>\n",
              "      <td>6.026730e+05</td>\n",
              "      <td>6.026730e+05</td>\n",
              "      <td>6.026730e+05</td>\n",
              "    </tr>\n",
              "    <tr>\n",
              "      <th>mean</th>\n",
              "      <td>2.786367e+07</td>\n",
              "      <td>2.016885e+07</td>\n",
              "      <td>6.446536e+03</td>\n",
              "      <td>6.742399e+03</td>\n",
              "    </tr>\n",
              "    <tr>\n",
              "      <th>std</th>\n",
              "      <td>1.588909e+08</td>\n",
              "      <td>1.360172e+08</td>\n",
              "      <td>2.110708e+06</td>\n",
              "      <td>2.269092e+06</td>\n",
              "    </tr>\n",
              "    <tr>\n",
              "      <th>min</th>\n",
              "      <td>0.000000e+00</td>\n",
              "      <td>0.000000e+00</td>\n",
              "      <td>0.000000e+00</td>\n",
              "      <td>0.000000e+00</td>\n",
              "    </tr>\n",
              "    <tr>\n",
              "      <th>25%</th>\n",
              "      <td>3.366980e+05</td>\n",
              "      <td>1.389650e+05</td>\n",
              "      <td>1.000000e+01</td>\n",
              "      <td>8.000000e+00</td>\n",
              "    </tr>\n",
              "    <tr>\n",
              "      <th>50%</th>\n",
              "      <td>2.121450e+06</td>\n",
              "      <td>1.207749e+06</td>\n",
              "      <td>7.200000e+01</td>\n",
              "      <td>5.100000e+01</td>\n",
              "    </tr>\n",
              "    <tr>\n",
              "      <th>75%</th>\n",
              "      <td>6.466613e+06</td>\n",
              "      <td>4.418113e+06</td>\n",
              "      <td>2.350000e+02</td>\n",
              "      <td>1.640000e+02</td>\n",
              "    </tr>\n",
              "    <tr>\n",
              "      <th>max</th>\n",
              "      <td>2.115823e+09</td>\n",
              "      <td>2.037820e+09</td>\n",
              "      <td>1.126553e+09</td>\n",
              "      <td>1.078346e+09</td>\n",
              "    </tr>\n",
              "  </tbody>\n",
              "</table>\n",
              "</div>"
            ],
            "text/plain": [
              "            ENTRIES         EXITS   ENTRY COUNT    EXIT COUNT\n",
              "count  6.026730e+05  6.026730e+05  6.026730e+05  6.026730e+05\n",
              "mean   2.786367e+07  2.016885e+07  6.446536e+03  6.742399e+03\n",
              "std    1.588909e+08  1.360172e+08  2.110708e+06  2.269092e+06\n",
              "min    0.000000e+00  0.000000e+00  0.000000e+00  0.000000e+00\n",
              "25%    3.366980e+05  1.389650e+05  1.000000e+01  8.000000e+00\n",
              "50%    2.121450e+06  1.207749e+06  7.200000e+01  5.100000e+01\n",
              "75%    6.466613e+06  4.418113e+06  2.350000e+02  1.640000e+02\n",
              "max    2.115823e+09  2.037820e+09  1.126553e+09  1.078346e+09"
            ]
          },
          "metadata": {
            "tags": []
          },
          "execution_count": 16
        }
      ]
    },
    {
      "cell_type": "code",
      "metadata": {
        "id": "BVlh1DmeC-Gp",
        "colab_type": "code",
        "colab": {
          "base_uri": "https://localhost:8080/",
          "height": 35
        },
        "outputId": "893d8cc5-eab3-44b0-c757-d378e880bd8e"
      },
      "source": [
        "len(df)"
      ],
      "execution_count": 17,
      "outputs": [
        {
          "output_type": "execute_result",
          "data": {
            "text/plain": [
              "604488"
            ]
          },
          "metadata": {
            "tags": []
          },
          "execution_count": 17
        }
      ]
    },
    {
      "cell_type": "code",
      "metadata": {
        "id": "YwBlhBvWDEMi",
        "colab_type": "code",
        "colab": {
          "base_uri": "https://localhost:8080/",
          "height": 288
        },
        "outputId": "9d3f21ab-2721-48d4-bc87-ef0af32c8d3b"
      },
      "source": [
        "df = df[(df['ENTRY COUNT'] < 15000) & (df['EXIT COUNT'] < 15000)]\n",
        "df.describe()"
      ],
      "execution_count": 17,
      "outputs": [
        {
          "output_type": "execute_result",
          "data": {
            "text/html": [
              "<div>\n",
              "<style scoped>\n",
              "    .dataframe tbody tr th:only-of-type {\n",
              "        vertical-align: middle;\n",
              "    }\n",
              "\n",
              "    .dataframe tbody tr th {\n",
              "        vertical-align: top;\n",
              "    }\n",
              "\n",
              "    .dataframe thead th {\n",
              "        text-align: right;\n",
              "    }\n",
              "</style>\n",
              "<table border=\"1\" class=\"dataframe\">\n",
              "  <thead>\n",
              "    <tr style=\"text-align: right;\">\n",
              "      <th></th>\n",
              "      <th>ENTRIES</th>\n",
              "      <th>EXITS</th>\n",
              "      <th>ENTRY COUNT</th>\n",
              "      <th>EXIT COUNT</th>\n",
              "    </tr>\n",
              "  </thead>\n",
              "  <tbody>\n",
              "    <tr>\n",
              "      <th>count</th>\n",
              "      <td>6.026360e+05</td>\n",
              "      <td>6.026360e+05</td>\n",
              "      <td>602636.000000</td>\n",
              "      <td>602636.000000</td>\n",
              "    </tr>\n",
              "    <tr>\n",
              "      <th>mean</th>\n",
              "      <td>2.785908e+07</td>\n",
              "      <td>2.016344e+07</td>\n",
              "      <td>172.095854</td>\n",
              "      <td>135.882961</td>\n",
              "    </tr>\n",
              "    <tr>\n",
              "      <th>std</th>\n",
              "      <td>1.588826e+08</td>\n",
              "      <td>1.360033e+08</td>\n",
              "      <td>251.462361</td>\n",
              "      <td>233.056615</td>\n",
              "    </tr>\n",
              "    <tr>\n",
              "      <th>min</th>\n",
              "      <td>0.000000e+00</td>\n",
              "      <td>0.000000e+00</td>\n",
              "      <td>0.000000</td>\n",
              "      <td>0.000000</td>\n",
              "    </tr>\n",
              "    <tr>\n",
              "      <th>25%</th>\n",
              "      <td>3.367968e+05</td>\n",
              "      <td>1.389408e+05</td>\n",
              "      <td>10.000000</td>\n",
              "      <td>8.000000</td>\n",
              "    </tr>\n",
              "    <tr>\n",
              "      <th>50%</th>\n",
              "      <td>2.121494e+06</td>\n",
              "      <td>1.207656e+06</td>\n",
              "      <td>72.000000</td>\n",
              "      <td>51.000000</td>\n",
              "    </tr>\n",
              "    <tr>\n",
              "      <th>75%</th>\n",
              "      <td>6.466618e+06</td>\n",
              "      <td>4.417960e+06</td>\n",
              "      <td>235.000000</td>\n",
              "      <td>164.000000</td>\n",
              "    </tr>\n",
              "    <tr>\n",
              "      <th>max</th>\n",
              "      <td>2.115823e+09</td>\n",
              "      <td>2.037820e+09</td>\n",
              "      <td>13759.000000</td>\n",
              "      <td>9407.000000</td>\n",
              "    </tr>\n",
              "  </tbody>\n",
              "</table>\n",
              "</div>"
            ],
            "text/plain": [
              "            ENTRIES         EXITS    ENTRY COUNT     EXIT COUNT\n",
              "count  6.026360e+05  6.026360e+05  602636.000000  602636.000000\n",
              "mean   2.785908e+07  2.016344e+07     172.095854     135.882961\n",
              "std    1.588826e+08  1.360033e+08     251.462361     233.056615\n",
              "min    0.000000e+00  0.000000e+00       0.000000       0.000000\n",
              "25%    3.367968e+05  1.389408e+05      10.000000       8.000000\n",
              "50%    2.121494e+06  1.207656e+06      72.000000      51.000000\n",
              "75%    6.466618e+06  4.417960e+06     235.000000     164.000000\n",
              "max    2.115823e+09  2.037820e+09   13759.000000    9407.000000"
            ]
          },
          "metadata": {
            "tags": []
          },
          "execution_count": 17
        }
      ]
    },
    {
      "cell_type": "code",
      "metadata": {
        "id": "FJvdfr_MEJ3f",
        "colab_type": "code",
        "colab": {
          "base_uri": "https://localhost:8080/",
          "height": 302
        },
        "outputId": "0af92fe1-289b-4d8a-b61a-231fdf61a818"
      },
      "source": [
        "df.head()"
      ],
      "execution_count": 18,
      "outputs": [
        {
          "output_type": "execute_result",
          "data": {
            "text/html": [
              "<div>\n",
              "<style scoped>\n",
              "    .dataframe tbody tr th:only-of-type {\n",
              "        vertical-align: middle;\n",
              "    }\n",
              "\n",
              "    .dataframe tbody tr th {\n",
              "        vertical-align: top;\n",
              "    }\n",
              "\n",
              "    .dataframe thead th {\n",
              "        text-align: right;\n",
              "    }\n",
              "</style>\n",
              "<table border=\"1\" class=\"dataframe\">\n",
              "  <thead>\n",
              "    <tr style=\"text-align: right;\">\n",
              "      <th></th>\n",
              "      <th>C/A</th>\n",
              "      <th>UNIT</th>\n",
              "      <th>SCP</th>\n",
              "      <th>STATION</th>\n",
              "      <th>LINENAME</th>\n",
              "      <th>DIVISION</th>\n",
              "      <th>DESC</th>\n",
              "      <th>ENTRIES</th>\n",
              "      <th>EXITS</th>\n",
              "      <th>DATETIME</th>\n",
              "      <th>DAY</th>\n",
              "      <th>ENTRY COUNT</th>\n",
              "      <th>EXIT COUNT</th>\n",
              "    </tr>\n",
              "  </thead>\n",
              "  <tbody>\n",
              "    <tr>\n",
              "      <th>1</th>\n",
              "      <td>A002</td>\n",
              "      <td>R051</td>\n",
              "      <td>02-00-00</td>\n",
              "      <td>59 ST</td>\n",
              "      <td>NQR456W</td>\n",
              "      <td>BMT</td>\n",
              "      <td>REGULAR</td>\n",
              "      <td>7026719</td>\n",
              "      <td>2382240</td>\n",
              "      <td>2019-04-20 04:00:00</td>\n",
              "      <td>Saturday</td>\n",
              "      <td>17.0</td>\n",
              "      <td>6.0</td>\n",
              "    </tr>\n",
              "    <tr>\n",
              "      <th>2</th>\n",
              "      <td>A002</td>\n",
              "      <td>R051</td>\n",
              "      <td>02-00-00</td>\n",
              "      <td>59 ST</td>\n",
              "      <td>NQR456W</td>\n",
              "      <td>BMT</td>\n",
              "      <td>REGULAR</td>\n",
              "      <td>7026737</td>\n",
              "      <td>2382269</td>\n",
              "      <td>2019-04-20 08:00:00</td>\n",
              "      <td>Saturday</td>\n",
              "      <td>18.0</td>\n",
              "      <td>29.0</td>\n",
              "    </tr>\n",
              "    <tr>\n",
              "      <th>3</th>\n",
              "      <td>A002</td>\n",
              "      <td>R051</td>\n",
              "      <td>02-00-00</td>\n",
              "      <td>59 ST</td>\n",
              "      <td>NQR456W</td>\n",
              "      <td>BMT</td>\n",
              "      <td>REGULAR</td>\n",
              "      <td>7026814</td>\n",
              "      <td>2382335</td>\n",
              "      <td>2019-04-20 12:00:00</td>\n",
              "      <td>Saturday</td>\n",
              "      <td>77.0</td>\n",
              "      <td>66.0</td>\n",
              "    </tr>\n",
              "    <tr>\n",
              "      <th>4</th>\n",
              "      <td>A002</td>\n",
              "      <td>R051</td>\n",
              "      <td>02-00-00</td>\n",
              "      <td>59 ST</td>\n",
              "      <td>NQR456W</td>\n",
              "      <td>BMT</td>\n",
              "      <td>REGULAR</td>\n",
              "      <td>7027007</td>\n",
              "      <td>2382395</td>\n",
              "      <td>2019-04-20 16:00:00</td>\n",
              "      <td>Saturday</td>\n",
              "      <td>193.0</td>\n",
              "      <td>60.0</td>\n",
              "    </tr>\n",
              "    <tr>\n",
              "      <th>5</th>\n",
              "      <td>A002</td>\n",
              "      <td>R051</td>\n",
              "      <td>02-00-00</td>\n",
              "      <td>59 ST</td>\n",
              "      <td>NQR456W</td>\n",
              "      <td>BMT</td>\n",
              "      <td>REGULAR</td>\n",
              "      <td>7027293</td>\n",
              "      <td>2382427</td>\n",
              "      <td>2019-04-20 20:00:00</td>\n",
              "      <td>Saturday</td>\n",
              "      <td>286.0</td>\n",
              "      <td>32.0</td>\n",
              "    </tr>\n",
              "  </tbody>\n",
              "</table>\n",
              "</div>"
            ],
            "text/plain": [
              "    C/A  UNIT       SCP  ...       DAY ENTRY COUNT EXIT COUNT\n",
              "1  A002  R051  02-00-00  ...  Saturday        17.0        6.0\n",
              "2  A002  R051  02-00-00  ...  Saturday        18.0       29.0\n",
              "3  A002  R051  02-00-00  ...  Saturday        77.0       66.0\n",
              "4  A002  R051  02-00-00  ...  Saturday       193.0       60.0\n",
              "5  A002  R051  02-00-00  ...  Saturday       286.0       32.0\n",
              "\n",
              "[5 rows x 13 columns]"
            ]
          },
          "metadata": {
            "tags": []
          },
          "execution_count": 18
        }
      ]
    },
    {
      "cell_type": "code",
      "metadata": {
        "id": "oFIV7u4pETaF",
        "colab_type": "code",
        "colab": {}
      },
      "source": [
        "final = df.groupby(['STATION', 'LINENAME']).agg({'ENTRY COUNT' : 'sum', 'EXIT COUNT' : 'sum'})"
      ],
      "execution_count": 0,
      "outputs": []
    },
    {
      "cell_type": "code",
      "metadata": {
        "id": "Wra3rlgoEkRR",
        "colab_type": "code",
        "colab": {
          "base_uri": "https://localhost:8080/",
          "height": 198
        },
        "outputId": "b56cc194-2d79-4665-e2e5-b4fa5397ffec"
      },
      "source": [
        "final.reset_index(inplace=True)\n",
        "final.head()"
      ],
      "execution_count": 20,
      "outputs": [
        {
          "output_type": "execute_result",
          "data": {
            "text/html": [
              "<div>\n",
              "<style scoped>\n",
              "    .dataframe tbody tr th:only-of-type {\n",
              "        vertical-align: middle;\n",
              "    }\n",
              "\n",
              "    .dataframe tbody tr th {\n",
              "        vertical-align: top;\n",
              "    }\n",
              "\n",
              "    .dataframe thead th {\n",
              "        text-align: right;\n",
              "    }\n",
              "</style>\n",
              "<table border=\"1\" class=\"dataframe\">\n",
              "  <thead>\n",
              "    <tr style=\"text-align: right;\">\n",
              "      <th></th>\n",
              "      <th>STATION</th>\n",
              "      <th>LINENAME</th>\n",
              "      <th>ENTRY COUNT</th>\n",
              "      <th>EXIT COUNT</th>\n",
              "    </tr>\n",
              "  </thead>\n",
              "  <tbody>\n",
              "    <tr>\n",
              "      <th>0</th>\n",
              "      <td>1 AV</td>\n",
              "      <td>L</td>\n",
              "      <td>322649.0</td>\n",
              "      <td>369205.0</td>\n",
              "    </tr>\n",
              "    <tr>\n",
              "      <th>1</th>\n",
              "      <td>103 ST</td>\n",
              "      <td>1</td>\n",
              "      <td>238151.0</td>\n",
              "      <td>116084.0</td>\n",
              "    </tr>\n",
              "    <tr>\n",
              "      <th>2</th>\n",
              "      <td>103 ST</td>\n",
              "      <td>6</td>\n",
              "      <td>237259.0</td>\n",
              "      <td>214588.0</td>\n",
              "    </tr>\n",
              "    <tr>\n",
              "      <th>3</th>\n",
              "      <td>103 ST</td>\n",
              "      <td>BC</td>\n",
              "      <td>89107.0</td>\n",
              "      <td>61951.0</td>\n",
              "    </tr>\n",
              "    <tr>\n",
              "      <th>4</th>\n",
              "      <td>103 ST-CORONA</td>\n",
              "      <td>7</td>\n",
              "      <td>370041.0</td>\n",
              "      <td>268830.0</td>\n",
              "    </tr>\n",
              "  </tbody>\n",
              "</table>\n",
              "</div>"
            ],
            "text/plain": [
              "         STATION LINENAME  ENTRY COUNT  EXIT COUNT\n",
              "0           1 AV        L     322649.0    369205.0\n",
              "1         103 ST        1     238151.0    116084.0\n",
              "2         103 ST        6     237259.0    214588.0\n",
              "3         103 ST       BC      89107.0     61951.0\n",
              "4  103 ST-CORONA        7     370041.0    268830.0"
            ]
          },
          "metadata": {
            "tags": []
          },
          "execution_count": 20
        }
      ]
    },
    {
      "cell_type": "code",
      "metadata": {
        "id": "AGOoh7cVElFd",
        "colab_type": "code",
        "colab": {
          "base_uri": "https://localhost:8080/",
          "height": 348
        },
        "outputId": "c43e0afe-77a8-43e4-f52e-1f08a03c4075"
      },
      "source": [
        "final.sort_values('ENTRY COUNT', ascending=False).head(10)"
      ],
      "execution_count": 21,
      "outputs": [
        {
          "output_type": "execute_result",
          "data": {
            "text/html": [
              "<div>\n",
              "<style scoped>\n",
              "    .dataframe tbody tr th:only-of-type {\n",
              "        vertical-align: middle;\n",
              "    }\n",
              "\n",
              "    .dataframe tbody tr th {\n",
              "        vertical-align: top;\n",
              "    }\n",
              "\n",
              "    .dataframe thead th {\n",
              "        text-align: right;\n",
              "    }\n",
              "</style>\n",
              "<table border=\"1\" class=\"dataframe\">\n",
              "  <thead>\n",
              "    <tr style=\"text-align: right;\">\n",
              "      <th></th>\n",
              "      <th>STATION</th>\n",
              "      <th>LINENAME</th>\n",
              "      <th>ENTRY COUNT</th>\n",
              "      <th>EXIT COUNT</th>\n",
              "    </tr>\n",
              "  </thead>\n",
              "  <tbody>\n",
              "    <tr>\n",
              "      <th>311</th>\n",
              "      <td>GRD CNTRL-42 ST</td>\n",
              "      <td>4567S</td>\n",
              "      <td>2639828.0</td>\n",
              "      <td>2326228.0</td>\n",
              "    </tr>\n",
              "    <tr>\n",
              "      <th>89</th>\n",
              "      <td>34 ST-HERALD SQ</td>\n",
              "      <td>BDFMNQRW</td>\n",
              "      <td>2129151.0</td>\n",
              "      <td>2011772.0</td>\n",
              "    </tr>\n",
              "    <tr>\n",
              "      <th>93</th>\n",
              "      <td>34 ST-PENN STA</td>\n",
              "      <td>ACE</td>\n",
              "      <td>1527514.0</td>\n",
              "      <td>1383212.0</td>\n",
              "    </tr>\n",
              "    <tr>\n",
              "      <th>102</th>\n",
              "      <td>42 ST-PORT AUTH</td>\n",
              "      <td>ACENQRS1237W</td>\n",
              "      <td>1439824.0</td>\n",
              "      <td>1209977.0</td>\n",
              "    </tr>\n",
              "    <tr>\n",
              "      <th>27</th>\n",
              "      <td>14 ST-UNION SQ</td>\n",
              "      <td>LNQR456W</td>\n",
              "      <td>1330276.0</td>\n",
              "      <td>1199564.0</td>\n",
              "    </tr>\n",
              "    <tr>\n",
              "      <th>446</th>\n",
              "      <td>TIMES SQ-42 ST</td>\n",
              "      <td>1237ACENQRSW</td>\n",
              "      <td>1261544.0</td>\n",
              "      <td>1207689.0</td>\n",
              "    </tr>\n",
              "    <tr>\n",
              "      <th>301</th>\n",
              "      <td>FULTON ST</td>\n",
              "      <td>2345ACJZ</td>\n",
              "      <td>1103759.0</td>\n",
              "      <td>1089165.0</td>\n",
              "    </tr>\n",
              "    <tr>\n",
              "      <th>125</th>\n",
              "      <td>59 ST COLUMBUS</td>\n",
              "      <td>ABCD1</td>\n",
              "      <td>1099081.0</td>\n",
              "      <td>908617.0</td>\n",
              "    </tr>\n",
              "    <tr>\n",
              "      <th>106</th>\n",
              "      <td>47-50 STS ROCK</td>\n",
              "      <td>BDFM</td>\n",
              "      <td>1064730.0</td>\n",
              "      <td>1099616.0</td>\n",
              "    </tr>\n",
              "    <tr>\n",
              "      <th>402</th>\n",
              "      <td>PATH NEW WTC</td>\n",
              "      <td>1</td>\n",
              "      <td>956183.0</td>\n",
              "      <td>864703.0</td>\n",
              "    </tr>\n",
              "  </tbody>\n",
              "</table>\n",
              "</div>"
            ],
            "text/plain": [
              "             STATION      LINENAME  ENTRY COUNT  EXIT COUNT\n",
              "311  GRD CNTRL-42 ST         4567S    2639828.0   2326228.0\n",
              "89   34 ST-HERALD SQ      BDFMNQRW    2129151.0   2011772.0\n",
              "93    34 ST-PENN STA           ACE    1527514.0   1383212.0\n",
              "102  42 ST-PORT AUTH  ACENQRS1237W    1439824.0   1209977.0\n",
              "27    14 ST-UNION SQ      LNQR456W    1330276.0   1199564.0\n",
              "446   TIMES SQ-42 ST  1237ACENQRSW    1261544.0   1207689.0\n",
              "301        FULTON ST      2345ACJZ    1103759.0   1089165.0\n",
              "125   59 ST COLUMBUS         ABCD1    1099081.0    908617.0\n",
              "106   47-50 STS ROCK          BDFM    1064730.0   1099616.0\n",
              "402     PATH NEW WTC             1     956183.0    864703.0"
            ]
          },
          "metadata": {
            "tags": []
          },
          "execution_count": 21
        }
      ]
    },
    {
      "cell_type": "code",
      "metadata": {
        "id": "bZU6-QMFXOSA",
        "colab_type": "code",
        "colab": {}
      },
      "source": [
        "top = final.sort_values('EXIT COUNT', ascending=False).head(20)"
      ],
      "execution_count": 0,
      "outputs": []
    },
    {
      "cell_type": "code",
      "metadata": {
        "id": "TvivwhSkE2aK",
        "colab_type": "code",
        "colab": {
          "base_uri": "https://localhost:8080/",
          "height": 648
        },
        "outputId": "3d1030c7-2f81-4999-ffe9-e6d9e4ea93df"
      },
      "source": [
        "top"
      ],
      "execution_count": 24,
      "outputs": [
        {
          "output_type": "execute_result",
          "data": {
            "text/html": [
              "<div>\n",
              "<style scoped>\n",
              "    .dataframe tbody tr th:only-of-type {\n",
              "        vertical-align: middle;\n",
              "    }\n",
              "\n",
              "    .dataframe tbody tr th {\n",
              "        vertical-align: top;\n",
              "    }\n",
              "\n",
              "    .dataframe thead th {\n",
              "        text-align: right;\n",
              "    }\n",
              "</style>\n",
              "<table border=\"1\" class=\"dataframe\">\n",
              "  <thead>\n",
              "    <tr style=\"text-align: right;\">\n",
              "      <th></th>\n",
              "      <th>STATION</th>\n",
              "      <th>LINENAME</th>\n",
              "      <th>ENTRY COUNT</th>\n",
              "      <th>EXIT COUNT</th>\n",
              "    </tr>\n",
              "  </thead>\n",
              "  <tbody>\n",
              "    <tr>\n",
              "      <th>311</th>\n",
              "      <td>GRD CNTRL-42 ST</td>\n",
              "      <td>4567S</td>\n",
              "      <td>2639828.0</td>\n",
              "      <td>2326228.0</td>\n",
              "    </tr>\n",
              "    <tr>\n",
              "      <th>89</th>\n",
              "      <td>34 ST-HERALD SQ</td>\n",
              "      <td>BDFMNQRW</td>\n",
              "      <td>2129151.0</td>\n",
              "      <td>2011772.0</td>\n",
              "    </tr>\n",
              "    <tr>\n",
              "      <th>93</th>\n",
              "      <td>34 ST-PENN STA</td>\n",
              "      <td>ACE</td>\n",
              "      <td>1527514.0</td>\n",
              "      <td>1383212.0</td>\n",
              "    </tr>\n",
              "    <tr>\n",
              "      <th>102</th>\n",
              "      <td>42 ST-PORT AUTH</td>\n",
              "      <td>ACENQRS1237W</td>\n",
              "      <td>1439824.0</td>\n",
              "      <td>1209977.0</td>\n",
              "    </tr>\n",
              "    <tr>\n",
              "      <th>446</th>\n",
              "      <td>TIMES SQ-42 ST</td>\n",
              "      <td>1237ACENQRSW</td>\n",
              "      <td>1261544.0</td>\n",
              "      <td>1207689.0</td>\n",
              "    </tr>\n",
              "    <tr>\n",
              "      <th>27</th>\n",
              "      <td>14 ST-UNION SQ</td>\n",
              "      <td>LNQR456W</td>\n",
              "      <td>1330276.0</td>\n",
              "      <td>1199564.0</td>\n",
              "    </tr>\n",
              "    <tr>\n",
              "      <th>106</th>\n",
              "      <td>47-50 STS ROCK</td>\n",
              "      <td>BDFM</td>\n",
              "      <td>1064730.0</td>\n",
              "      <td>1099616.0</td>\n",
              "    </tr>\n",
              "    <tr>\n",
              "      <th>301</th>\n",
              "      <td>FULTON ST</td>\n",
              "      <td>2345ACJZ</td>\n",
              "      <td>1103759.0</td>\n",
              "      <td>1089165.0</td>\n",
              "    </tr>\n",
              "    <tr>\n",
              "      <th>125</th>\n",
              "      <td>59 ST COLUMBUS</td>\n",
              "      <td>ABCD1</td>\n",
              "      <td>1099081.0</td>\n",
              "      <td>908617.0</td>\n",
              "    </tr>\n",
              "    <tr>\n",
              "      <th>402</th>\n",
              "      <td>PATH NEW WTC</td>\n",
              "      <td>1</td>\n",
              "      <td>956183.0</td>\n",
              "      <td>864703.0</td>\n",
              "    </tr>\n",
              "    <tr>\n",
              "      <th>288</th>\n",
              "      <td>FLUSHING-MAIN</td>\n",
              "      <td>7</td>\n",
              "      <td>913588.0</td>\n",
              "      <td>775152.0</td>\n",
              "    </tr>\n",
              "    <tr>\n",
              "      <th>156</th>\n",
              "      <td>86 ST</td>\n",
              "      <td>456</td>\n",
              "      <td>722570.0</td>\n",
              "      <td>764609.0</td>\n",
              "    </tr>\n",
              "    <tr>\n",
              "      <th>92</th>\n",
              "      <td>34 ST-PENN STA</td>\n",
              "      <td>123ACE</td>\n",
              "      <td>885450.0</td>\n",
              "      <td>764064.0</td>\n",
              "    </tr>\n",
              "    <tr>\n",
              "      <th>458</th>\n",
              "      <td>W 4 ST-WASH SQ</td>\n",
              "      <td>ABCDEFM</td>\n",
              "      <td>831692.0</td>\n",
              "      <td>759093.0</td>\n",
              "    </tr>\n",
              "    <tr>\n",
              "      <th>354</th>\n",
              "      <td>LEXINGTON AV/53</td>\n",
              "      <td>EM6</td>\n",
              "      <td>697759.0</td>\n",
              "      <td>743984.0</td>\n",
              "    </tr>\n",
              "    <tr>\n",
              "      <th>121</th>\n",
              "      <td>59 ST</td>\n",
              "      <td>456NQRW</td>\n",
              "      <td>718898.0</td>\n",
              "      <td>741286.0</td>\n",
              "    </tr>\n",
              "    <tr>\n",
              "      <th>338</th>\n",
              "      <td>JKSN HT-ROOSVLT</td>\n",
              "      <td>EFMR7</td>\n",
              "      <td>942908.0</td>\n",
              "      <td>700850.0</td>\n",
              "    </tr>\n",
              "    <tr>\n",
              "      <th>164</th>\n",
              "      <td>96 ST</td>\n",
              "      <td>123</td>\n",
              "      <td>669533.0</td>\n",
              "      <td>661754.0</td>\n",
              "    </tr>\n",
              "    <tr>\n",
              "      <th>91</th>\n",
              "      <td>34 ST-PENN STA</td>\n",
              "      <td>123</td>\n",
              "      <td>632692.0</td>\n",
              "      <td>659708.0</td>\n",
              "    </tr>\n",
              "    <tr>\n",
              "      <th>234</th>\n",
              "      <td>CANAL ST</td>\n",
              "      <td>JNQRZ6W</td>\n",
              "      <td>852563.0</td>\n",
              "      <td>626797.0</td>\n",
              "    </tr>\n",
              "  </tbody>\n",
              "</table>\n",
              "</div>"
            ],
            "text/plain": [
              "             STATION      LINENAME  ENTRY COUNT  EXIT COUNT\n",
              "311  GRD CNTRL-42 ST         4567S    2639828.0   2326228.0\n",
              "89   34 ST-HERALD SQ      BDFMNQRW    2129151.0   2011772.0\n",
              "93    34 ST-PENN STA           ACE    1527514.0   1383212.0\n",
              "102  42 ST-PORT AUTH  ACENQRS1237W    1439824.0   1209977.0\n",
              "446   TIMES SQ-42 ST  1237ACENQRSW    1261544.0   1207689.0\n",
              "27    14 ST-UNION SQ      LNQR456W    1330276.0   1199564.0\n",
              "106   47-50 STS ROCK          BDFM    1064730.0   1099616.0\n",
              "301        FULTON ST      2345ACJZ    1103759.0   1089165.0\n",
              "125   59 ST COLUMBUS         ABCD1    1099081.0    908617.0\n",
              "402     PATH NEW WTC             1     956183.0    864703.0\n",
              "288    FLUSHING-MAIN             7     913588.0    775152.0\n",
              "156            86 ST           456     722570.0    764609.0\n",
              "92    34 ST-PENN STA        123ACE     885450.0    764064.0\n",
              "458   W 4 ST-WASH SQ       ABCDEFM     831692.0    759093.0\n",
              "354  LEXINGTON AV/53           EM6     697759.0    743984.0\n",
              "121            59 ST       456NQRW     718898.0    741286.0\n",
              "338  JKSN HT-ROOSVLT         EFMR7     942908.0    700850.0\n",
              "164            96 ST           123     669533.0    661754.0\n",
              "91    34 ST-PENN STA           123     632692.0    659708.0\n",
              "234         CANAL ST       JNQRZ6W     852563.0    626797.0"
            ]
          },
          "metadata": {
            "tags": []
          },
          "execution_count": 24
        }
      ]
    },
    {
      "cell_type": "code",
      "metadata": {
        "id": "GNyfYAyCKlCD",
        "colab_type": "code",
        "colab": {
          "base_uri": "https://localhost:8080/",
          "height": 35
        },
        "outputId": "4a3d864e-7384-4ca5-87c3-2cbb59bb2e22"
      },
      "source": [
        "type(top)"
      ],
      "execution_count": 25,
      "outputs": [
        {
          "output_type": "execute_result",
          "data": {
            "text/plain": [
              "pandas.core.frame.DataFrame"
            ]
          },
          "metadata": {
            "tags": []
          },
          "execution_count": 25
        }
      ]
    },
    {
      "cell_type": "code",
      "metadata": {
        "id": "tkhNR1N-ZVkO",
        "colab_type": "code",
        "colab": {}
      },
      "source": [
        ""
      ],
      "execution_count": 0,
      "outputs": []
    }
  ]
}